{
 "cells": [
  {
   "cell_type": "markdown",
   "metadata": {
    "heading_collapsed": true
   },
   "source": [
    "# Funciones Base"
   ]
  },
  {
   "cell_type": "markdown",
   "metadata": {
    "hidden": true
   },
   "source": [
    "Para manipular los pixeles de una imagen, primero se debe acceder a ellos. Con este fin usamos la librería Image:"
   ]
  },
  {
   "cell_type": "code",
   "execution_count": 1,
   "metadata": {
    "hidden": true
   },
   "outputs": [
    {
     "name": "stdout",
     "output_type": "stream",
     "text": [
      "Size: (960, 650)\n"
     ]
    }
   ],
   "source": [
    "from PIL import Image\n",
    "from random import randint\n",
    "\n",
    "# Ojo que no funciona con .jpg\n",
    "im = Image.open(\"dog_img.png\")\n",
    "\n",
    "print 'Size:', im.size\n",
    "x = im.size[0]\n",
    "y = im.size[1]"
   ]
  },
  {
   "cell_type": "markdown",
   "metadata": {
    "hidden": true
   },
   "source": [
    "Tenemos una imagen de \"x\" pixeles de ancho e \"y\" de alto. La información de los colores (R,G,B) de cada pixel se obtiene:"
   ]
  },
  {
   "cell_type": "code",
   "execution_count": 2,
   "metadata": {
    "hidden": true
   },
   "outputs": [
    {
     "name": "stdout",
     "output_type": "stream",
     "text": [
      "(8, 21, 3, 255)\n"
     ]
    }
   ],
   "source": [
    "pix = im.load()\n",
    "test = [randint(0, x), randint(0, y)]\n",
    "print pix[test[0], test[1]]"
   ]
  },
  {
   "cell_type": "markdown",
   "metadata": {
    "hidden": true
   },
   "source": [
    "Es decir, pix[test[0], test[1]] muestra los colores [R,G,B] del pixel random recién testeado. Cada color, se representa con un número que va desde el 0 hasta el 255, es decir, por color se tienen 2^8 tonalidades. Esto último, se puede representar con 8-bits por color."
   ]
  },
  {
   "cell_type": "code",
   "execution_count": 3,
   "metadata": {
    "hidden": true
   },
   "outputs": [
    {
     "name": "stdout",
     "output_type": "stream",
     "text": [
      "Test: Nº 200 Binary: 11001000\n"
     ]
    }
   ],
   "source": [
    "def int_to_bin(int):\n",
    "    b = bin(int)[2:] # Primero 2 términos siempre son \"0b\"\n",
    "    if len(b) < 8:\n",
    "        dif = 8 - len(b)\n",
    "        b = '0' * dif + b\n",
    "    return b\n",
    "\n",
    "int_test = randint(0, 255)\n",
    "print 'Test: Nº', int_test, 'Binary:', int_to_bin(int_test)"
   ]
  },
  {
   "cell_type": "markdown",
   "metadata": {
    "hidden": true
   },
   "source": [
    "Ahora, podemos representar los colores de cada pixel usando bits:"
   ]
  },
  {
   "cell_type": "code",
   "execution_count": 4,
   "metadata": {
    "hidden": true
   },
   "outputs": [
    {
     "name": "stdout",
     "output_type": "stream",
     "text": [
      "Test: Pixel: [822, 539]\n",
      "(RGB) en enteros: (4, 16, 2, 255)\n",
      "(RGB) en binario: ['00000100', '00010000', '00000010', '11111111']\n"
     ]
    }
   ],
   "source": [
    "def pixel_bin(pix, pix_test):\n",
    "    bp = [int_to_bin(pixel) for pixel in pix[pix_test[0], pix_test[1]]]\n",
    "    return bp\n",
    "\n",
    "test = [randint(0, x), randint(0, y)]\n",
    "print 'Test: Pixel:', test\n",
    "print '(RGB) en enteros:', pix[test[0], test[1]]\n",
    "print '(RGB) en binario:', pixel_bin(pix, test) "
   ]
  },
  {
   "cell_type": "markdown",
   "metadata": {
    "hidden": true
   },
   "source": [
    "Por otra parte, los caracteres ASCII están representados por un número entero que va desde 0 al 255 (¡qué coincidencia!). Por lo tanto, cada cáracter se pasa a entero y luego a binario."
   ]
  },
  {
   "cell_type": "code",
   "execution_count": 5,
   "metadata": {
    "hidden": true
   },
   "outputs": [
    {
     "name": "stdout",
     "output_type": "stream",
     "text": [
      "Char: h Int: 104 Bin: 01101000\n",
      "Char: o Int: 111 Bin: 01101111\n",
      "Char: l Int: 108 Bin: 01101100\n",
      "Char: a Int: 97 Bin: 01100001\n"
     ]
    }
   ],
   "source": [
    "def char_int_bin(c):\n",
    "    entero = ord(c) # ord(x) convierte el cáracter c en int.\n",
    "    binario = int_to_bin(entero)\n",
    "    return binario\n",
    "\n",
    "test = \"hola\"\n",
    "for c in test:\n",
    "    print 'Char:', c, 'Int:', ord(c), 'Bin:', char_int_bin(c)"
   ]
  },
  {
   "cell_type": "markdown",
   "metadata": {},
   "source": [
    "# Algoritmo (a)"
   ]
  },
  {
   "cell_type": "markdown",
   "metadata": {
    "heading_collapsed": true
   },
   "source": [
    "## Términos Modificables"
   ]
  },
  {
   "cell_type": "markdown",
   "metadata": {
    "hidden": true
   },
   "source": [
    "El algoritmo (a) dice: <i>\"Cada pixel oculta un carácter, siendo los 3 bits de los 2 primeros colores y los 2 últimos del último color\"</i>. Osea, cada cáracter se compone de 8 bits, los cuales, del primero al tercero salen del primer color, del cuarto al sexto del segundo color y el séptimo y octavo del último color."
   ]
  },
  {
   "cell_type": "markdown",
   "metadata": {
    "hidden": true
   },
   "source": [
    "Ejemplifiquemos el algoritmo:"
   ]
  },
  {
   "cell_type": "code",
   "execution_count": 6,
   "metadata": {
    "hidden": true
   },
   "outputs": [
    {
     "name": "stdout",
     "output_type": "stream",
     "text": [
      "['00101010', '00110001', '00100001', '11111111']\n"
     ]
    }
   ],
   "source": [
    "algo_test = [100, 100]\n",
    "print pixel_bin(pix, algo_test) "
   ]
  },
  {
   "cell_type": "markdown",
   "metadata": {
    "hidden": true
   },
   "source": [
    "Es decir, el pixel (100, 100) es de color ['00101010', '00110001', '00100001']. Ahora, el algoritmo dice que <b>\"siendo los 3 bits de los primeros de los 2 primeros colores\"</b>, por lo tanto necesitamos sacar 3 bits de los 2 primeros colores ('00101010' y '00110001'), pero <b>¿Qué bits deberíamos sacar?</b>."
   ]
  },
  {
   "cell_type": "markdown",
   "metadata": {
    "hidden": true
   },
   "source": [
    "Si el lector sabe como leer un número binario, entonces también sabe que los términos que menos afectan el número representado son los del extremo derecho. Veamos un ejemplo:"
   ]
  },
  {
   "cell_type": "code",
   "execution_count": 7,
   "metadata": {
    "hidden": true
   },
   "outputs": [
    {
     "name": "stdout",
     "output_type": "stream",
     "text": [
      "255\n",
      "254\n",
      "127\n"
     ]
    }
   ],
   "source": [
    "print int('11111111', 2) # Función para pasar de bin a int.\n",
    "print int('11111110', 2)\n",
    "print int('01111111', 2)"
   ]
  },
  {
   "cell_type": "markdown",
   "metadata": {
    "hidden": true
   },
   "source": [
    "Modificar el término del extremo derecho sólo resta 1 al total (- 0.4%), mientras que modificar el extremo izquierdo resta <b>128</b> del total (- 50.2%)."
   ]
  },
  {
   "cell_type": "markdown",
   "metadata": {
    "hidden": true
   },
   "source": [
    "Por lo tanto, es lógico que para <i>generar el <b>menor</b> impacto posible</i> en los colores de los pixeles, se deberán modificar los términos del extremo <b>derecho</b> de los bytes de colores."
   ]
  },
  {
   "cell_type": "markdown",
   "metadata": {
    "heading_collapsed": true
   },
   "source": [
    "## Importar Mensaje Oculto"
   ]
  },
  {
   "cell_type": "markdown",
   "metadata": {
    "hidden": true
   },
   "source": [
    "Resulta incómodo y poco práctico escribir el mensaje oculto en la consola de python, por lo que tomaremos un archivo de texto (.txt), lo importaremos y lo ocultaremos en nuestra imágen."
   ]
  },
  {
   "cell_type": "code",
   "execution_count": 8,
   "metadata": {
    "hidden": true
   },
   "outputs": [],
   "source": [
    "mensaje = open('text.txt', 'r')"
   ]
  },
  {
   "cell_type": "markdown",
   "metadata": {
    "hidden": true
   },
   "source": [
    "El algoritmo dice <i>\"Cada pixel oculta un carácter\"</i> por lo que nuestro mensaje no puede tener más caracteres que pixeles en nuestra imagen."
   ]
  },
  {
   "cell_type": "code",
   "execution_count": 9,
   "metadata": {
    "hidden": true
   },
   "outputs": [
    {
     "name": "stdout",
     "output_type": "stream",
     "text": [
      "El mensaje cae en la imagen.\n"
     ]
    }
   ],
   "source": [
    "def check_length(image, text):\n",
    "    # Esta función checkea si el texto cae en la imagen.\n",
    "    # En caso de que caiga, también entrega el porte de la imagen\n",
    "    # y del texto.\n",
    "    x, y = image.size\n",
    "    img_pixels = x * y\n",
    "    text_chars = 0\n",
    "    for l in text:\n",
    "        text_chars += len(l)\n",
    "    if img_pixels < text_chars:\n",
    "        return False, []\n",
    "    return True, [img_pixels, text_chars]\n",
    "\n",
    "# Test\n",
    "if check_length(im, mensaje)[0]:\n",
    "    print 'El mensaje cae en la imagen.'\n",
    "else:\n",
    "    print 'El mensaje no cae en la imagen.'"
   ]
  },
  {
   "cell_type": "markdown",
   "metadata": {
    "hidden": true
   },
   "source": [
    "Si el mensaje cae en la imagen, es importante saber hasta <i>\"en que pixel\"</i> puede ser ingresado."
   ]
  },
  {
   "cell_type": "markdown",
   "metadata": {
    "heading_collapsed": true
   },
   "source": [
    "## Claves de Entrada y Salida"
   ]
  },
  {
   "cell_type": "markdown",
   "metadata": {
    "hidden": true
   },
   "source": [
    "No necesariamente el mensaje debe empezar en el primer pixel ni terminar en el último, por lo que definiremos claves de entrada y salida. El programa estará constantemente checkeando si es que aparecen las claves con el fin de empezar a leer o terminar de leer. "
   ]
  },
  {
   "cell_type": "code",
   "execution_count": 10,
   "metadata": {
    "collapsed": true,
    "hidden": true
   },
   "outputs": [],
   "source": [
    "claves = ['hola1234', 'chao5678']"
   ]
  },
  {
   "cell_type": "markdown",
   "metadata": {
    "hidden": true
   },
   "source": [
    "Ahora, es necesario checkear si el mensaje más las claves cae en la imagen, y si es así, hasta en que pixel podemos empezar nuestro mensaje."
   ]
  },
  {
   "cell_type": "code",
   "execution_count": 11,
   "metadata": {
    "hidden": true
   },
   "outputs": [
    {
     "name": "stdout",
     "output_type": "stream",
     "text": [
      "El mensaje más claves cae en la imagen.\n",
      "Último pixel para empezar: 623984\n"
     ]
    }
   ],
   "source": [
    "def check_position(image, text, claves):\n",
    "    check = check_length(image, text)\n",
    "    if check[0]:\n",
    "        total_length = check[1][1] + len(claves[0]) + len(claves[1])\n",
    "        \n",
    "        if total_length > check[1][0]:\n",
    "            return False, 0\n",
    "        \n",
    "        return True, check[1][0] - total_length\n",
    "    \n",
    "        \n",
    "# Cerramos y abrimos para poder volver a explorar.\n",
    "mensaje.close()\n",
    "mensaje = open('text.txt', 'r')\n",
    "\n",
    "# Test\n",
    "if check_position(im, mensaje, claves)[0]:\n",
    "    print 'El mensaje más claves cae en la imagen.'\n",
    "    print 'Último pixel para empezar:', \\\n",
    "            check_position(im, mensaje, claves)[1]\n"
   ]
  },
  {
   "cell_type": "markdown",
   "metadata": {
    "heading_collapsed": true
   },
   "source": [
    "## Salvar Copia Original"
   ]
  },
  {
   "cell_type": "markdown",
   "metadata": {
    "hidden": true
   },
   "source": [
    "Es importante crear una copia de la imagen original como medida de seguridad y por si se quiere modificar de vuelta la imagen codificada."
   ]
  },
  {
   "cell_type": "code",
   "execution_count": 12,
   "metadata": {
    "collapsed": true,
    "hidden": true
   },
   "outputs": [],
   "source": [
    "from shutil import copyfile # Función copypaste\n",
    "\n",
    "copyfile('dog_img.png', 'dog_img_modificado.png')"
   ]
  },
  {
   "cell_type": "markdown",
   "metadata": {
    "heading_collapsed": true
   },
   "source": [
    "## Modificación de Pixeles"
   ]
  },
  {
   "cell_type": "markdown",
   "metadata": {
    "hidden": true
   },
   "source": [
    "Es el momento de comenzar a modificar los pixeles que abarcarán nuestro mensaje."
   ]
  },
  {
   "cell_type": "code",
   "execution_count": 15,
   "metadata": {
    "hidden": true
   },
   "outputs": [
    {
     "data": {
      "text/plain": [
       "1"
      ]
     },
     "execution_count": 15,
     "metadata": {},
     "output_type": "execute_result"
    }
   ],
   "source": [
    "def modificar_imagen(img_path, text_path, claves, aqui):\n",
    "    # aqui: pixel de entrada del mensaje.\n",
    "    mensaje = open(text_path, 'r') # Abrimos el mensaje.\n",
    "    im = Image.open(img_path) # Abrimos la imagen\n",
    "    pix = im.load() # Abrimos los pixeles.\n",
    "    \n",
    "    check = check_position(im, mensaje, claves) # Check si cae.\n",
    "    if check[0]:\n",
    "        maximo = check[1]\n",
    "        \n",
    "        if aqui > maximo:\n",
    "            print 'El mensaje no cae desde la posición especificada.'\n",
    "            return 0\n",
    "        \n",
    "        # Cerramos y abrimos para poder volver a explorar.\n",
    "        mensaje.close()\n",
    "        mensaje = open(text_path, 'r')\n",
    "        \n",
    "        # Creamos un string largo con todo el mensaje y las claves.\n",
    "        msg = claves[0] + ''\n",
    "        for l in mensaje:\n",
    "            msg += l\n",
    "        msg += claves[1]\n",
    "\n",
    "        # Modificamos\n",
    "        actual_img, actual_msg = 0, 0 # Posicion en imagen y en mensaje\n",
    "        # Iteramos en los pixeles hasta llegar a pixel de inicio.\n",
    "        for i in range(im.size[0]):\n",
    "            for j in range(im.size[1]):\n",
    "                actual_img += 1\n",
    "                # Modificamos hasta que llegamos al final del mensaje.\n",
    "                if actual_img >= aqui and actual_msg < len(msg):\n",
    "                    binario = char_int_bin(msg[actual_msg])\n",
    "                    colores = pixel_bin(pix, [i,j])\n",
    "\n",
    "                    # Modificamos según algoritmo (a)\n",
    "                    colores[0] = colores[0][:5] + binario[:3]\n",
    "                    colores[1] = colores[1][:5] + binario[3:6]\n",
    "                    colores[2] = colores[2][:6] + binario[6:8]\n",
    "                    new_color = (int(colores[0], 2),\n",
    "                                 int(colores[1], 2),\n",
    "                                 int(colores[2], 2))\n",
    "                    \n",
    "                    # Guardamos nuevo pixel\n",
    "                    pix[i,j] = new_color\n",
    "                    actual_msg += 1\n",
    "\n",
    "                elif actual_msg != 0:\n",
    "                    # Guardamos imagen modificada y salimos.\n",
    "                    im.save(img_path)\n",
    "                    mensaje.close()\n",
    "                    return 1\n",
    "    else:\n",
    "        print 'El mensaje no cae en la imagen.'\n",
    "        return 0\n",
    "\n",
    "\n",
    "\n",
    "modificar_imagen('dog_img_modificado.png', 'text.txt', claves, 76851)"
   ]
  },
  {
   "cell_type": "markdown",
   "metadata": {
    "heading_collapsed": true
   },
   "source": [
    "## Decodificación de Mensaje Oculto"
   ]
  },
  {
   "cell_type": "markdown",
   "metadata": {
    "hidden": true
   },
   "source": [
    "Nuestro decodificador debe identificar la clave de entrada y de salida para comenzar a decodificar y terminar de hacerlo."
   ]
  },
  {
   "cell_type": "code",
   "execution_count": 18,
   "metadata": {
    "hidden": true
   },
   "outputs": [
    {
     "name": "stdout",
     "output_type": "stream",
     "text": [
      "\"Me Reclama\"\n",
      "(feat. Lui-G 21 Plus)\n",
      "\n",
      "[Ozuna:]\n",
      "Le estoy mirando desde su entrada \n",
      "Es que esa shorty como que me gusto \n",
      "Disimulando pero cambiamos miradas \n",
      "Y como si nada se me pego \n",
      "\n",
      "Le pregunte su nombre \n",
      "Lo mismo me preguntaba \n",
      "Ella quería que yo fuera su hombre \n",
      "Y yo quería que ella fuera mi dama \n",
      "\n",
      "Yo soy el que le gusta \n",
      "Su cuerpo me reclama \n",
      "Cuando se siente sola \n",
      "Yo soy el hombre que ella llama [x2] \n",
      "\n",
      "[Luigi 21 Plus:]\n",
      "El hombre que ella siempre llama \n",
      "¡Si ese soy yo! \n",
      "El que el chupa bien rico, ese bowyou \n",
      "El que ella quiere, el que más desea \n",
      "Con el único que chinga, a la hora que sea \n",
      "\n",
      "Es que ella los prefiere, boquisucios \n",
      "Quiere que le meta duro con el prepucio \n",
      "Se puso en cuatro patas, quiere que lo entre \n",
      "Por donde le sale ca**, abre esas patas \n",
      "\n",
      "Yo soy su hombre, ella es mi lady \n",
      "Yo soy su puto, ella es mi baby \n",
      "Cuando está sola es a mí el que llama \n",
      "Soy su gato favorito en la cama \n",
      "\n",
      "Yo soy el que le gusta \n",
      "Su cuerpo me reclama \n",
      "Cuando se siente sola \n",
      "Yo soy el hombre que ella llama [x2] \n",
      "\n",
      "[Luigi 21 Plus:]\n",
      "Que paso pana mío, estas mordido \n",
      "Ella no te llama eso no es problema mío \n",
      "Yo estoy tranquilo, ella es la que busca \n",
      "No es mi culpa que yo sea el que le gusta \n",
      "\n",
      "El que le da como le gusta \n",
      "Ella me dijo que no le gustas \n",
      "Por eso cuando la buscas \n",
      "Ella una excusa siempre busca \n",
      "\n",
      "Y cuando se queda sola \n",
      "Ella me textea con un hola \n",
      "Me pide una coca cola \n",
      "Ella lo que quiere es bicho y bola \n",
      "\n",
      "[Ozuna:]\n",
      "Le pregunte tu nombre \n",
      "Lo mismo me preguntaba \n",
      "Ella quería que yo fuera su hombre \n",
      "Y yo quería que ella fuera mi dama \n",
      "\n",
      "Yo soy el que le gusta \n",
      "Su cuerpo me reclama \n",
      "Cuando se siente sola \n",
      "Yo soy el hombre que ella llama [x2] \n",
      "\n",
      "Baby \n",
      "El negrito de ojos claros \n",
      "Ozuna! \n",
      "Lui G 21 Plus \n",
      "Díselo Luian \n",
      "Mambo Kingz \n",
      "El boquisucio \n",
      "Yampi \n",
      "Yo soy el que le gusto \n",
      "Soy yo…\n"
     ]
    }
   ],
   "source": [
    "def traducir(binarios):\n",
    "    bin_final = binarios[0][-3:] + binarios[1][-3:] + binarios[2][-2:]\n",
    "    return chr(int(bin_final, 2))\n",
    "\n",
    "def decodificador(img_path, claves):\n",
    "    im = Image.open(img_path) # Abrimos la imagen\n",
    "    pix = im.load() # Abrimos los pixeles\n",
    "    \n",
    "    actual_img = 0\n",
    "    clave_check = ''\n",
    "    status = 0 \n",
    "    msg = ''\n",
    "    for i in range(im.size[0]):\n",
    "        for j in range(im.size[1]):\n",
    "            colores = pixel_bin(pix, [i,j])\n",
    "            clave_check += traducir(colores)\n",
    "            \n",
    "            if status == 1:\n",
    "                msg += traducir(colores)\n",
    "            \n",
    "            # Lo mantenemos del largo de la clave\n",
    "            if len(clave_check) > len(claves[status]):\n",
    "                clave_check = clave_check[-len(claves[0]):]\n",
    "                \n",
    "            if clave_check == claves[status]: # Checkear por clave\n",
    "                status += 1\n",
    "                if status == 2:\n",
    "                    return msg[:-len(claves[1])] # Le sacamos la clave de salida\n",
    "    return 0\n",
    "\n",
    "print decodificador('dog_img_modificado.png', claves)"
   ]
  },
  {
   "cell_type": "markdown",
   "metadata": {
    "heading_collapsed": true
   },
   "source": [
    "# Compración de Imágenes"
   ]
  },
  {
   "cell_type": "markdown",
   "metadata": {
    "hidden": true
   },
   "source": [
    "<figure>\n",
    "    <img src=\"dog_img.png\", width=600, alt=\"dog_img\">\n",
    "    <figcaption>Imagen Original</figcaption>\n",
    "</figure>"
   ]
  },
  {
   "cell_type": "markdown",
   "metadata": {
    "hidden": true
   },
   "source": [
    "<figure>\n",
    "    <img src=\"dog_img_modificado.png\", width=600, alt=\"dog_img_mod\">\n",
    "    <figcaption>Imagen Modificada</figcaption>\n",
    "</figure>"
   ]
  }
 ],
 "metadata": {
  "kernelspec": {
   "display_name": "Python 2",
   "language": "python",
   "name": "python2"
  },
  "language_info": {
   "codemirror_mode": {
    "name": "ipython",
    "version": 2
   },
   "file_extension": ".py",
   "mimetype": "text/x-python",
   "name": "python",
   "nbconvert_exporter": "python",
   "pygments_lexer": "ipython2",
   "version": "2.7.13"
  },
  "latex_envs": {
   "LaTeX_envs_menu_present": true,
   "autocomplete": false,
   "bibliofile": "biblio.bib",
   "cite_by": "apalike",
   "current_citInitial": 1,
   "eqLabelWithNumbers": true,
   "eqNumInitial": 1,
   "hotkeys": {
    "equation": "Ctrl-E",
    "itemize": "Ctrl-I"
   },
   "labels_anchors": false,
   "latex_user_defs": false,
   "report_style_numbering": false,
   "user_envs_cfg": false
  },
  "toc": {
   "colors": {
    "hover_highlight": "#DAA520",
    "running_highlight": "#FF0000",
    "selected_highlight": "#FFD700"
   },
   "moveMenuLeft": true,
   "nav_menu": {
    "height": "12px",
    "width": "252px"
   },
   "navigate_menu": true,
   "number_sections": true,
   "sideBar": true,
   "threshold": 4,
   "toc_cell": false,
   "toc_section_display": "block",
   "toc_window_display": false,
   "widenNotebook": false
  }
 },
 "nbformat": 4,
 "nbformat_minor": 2
}
